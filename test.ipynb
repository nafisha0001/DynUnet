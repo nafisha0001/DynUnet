{
 "cells": [
  {
   "cell_type": "code",
   "execution_count": 1,
   "id": "4fb3b520",
   "metadata": {},
   "outputs": [
    {
     "name": "stderr",
     "output_type": "stream",
     "text": [
      "c:\\Users\\Acer\\anaconda3\\envs\\3dVS\\lib\\site-packages\\albumentations\\__init__.py:28: UserWarning: A new version of Albumentations is available: '2.0.6' (you have '2.0.5'). Upgrade using: pip install -U albumentations. To disable automatic update checks, set the environment variable NO_ALBUMENTATIONS_UPDATE to 1.\n",
      "  check_for_updates()\n"
     ]
    }
   ],
   "source": [
    "import torch\n",
    "import albumentations as A\n",
    "from albumentations.pytorch import ToTensorV2\n",
    "from torch.utils.data import DataLoader\n",
    "from monai.losses import DiceCELoss\n",
    "from torch.optim import Adam\n",
    "from dataset import VSDataset\n",
    "from model import DynUNet"
   ]
  },
  {
   "cell_type": "code",
   "execution_count": 2,
   "id": "6baf9f81",
   "metadata": {},
   "outputs": [],
   "source": [
    "batch_size = 1\n",
    "num_workers = 0\n",
    "pin_memory = False\n",
    "LEARNING_RATE = 1e-4\n",
    "num_epochs = 4\n",
    "image_size = 128"
   ]
  },
  {
   "cell_type": "code",
   "execution_count": 3,
   "id": "0bcda7c2",
   "metadata": {},
   "outputs": [],
   "source": [
    "slice_transform = A.Compose([\n",
    "    A.Resize(image_size, image_size),\n",
    "    A.Rotate(limit=35, p=1.0),\n",
    "    A.HorizontalFlip(p=0.5),\n",
    "    A.VerticalFlip(p=0.1),\n",
    "    A.Normalize(mean=0.0, std=1.0, max_pixel_value=255.0),\n",
    "    ToTensorV2()\n",
    "])"
   ]
  },
  {
   "cell_type": "code",
   "execution_count": null,
   "id": "46464f3d",
   "metadata": {},
   "outputs": [],
   "source": [
    "# masks_path = 'D:\\\\3dVS1\\\\sample_data\\\\Masks'\n",
    "# images_path = 'D:\\\\3dVS1\\\\sample_data\\\\Image'\n",
    "data_dir= r'D:\\VSdata'\n",
    "# csv_path = r'D:\\VSdata\\vs_paths_cleaned.csv' \n",
    "csv_path= r\"C:\\Users\\Acer\\Desktop\\vs_paths.csv\""
   ]
  },
  {
   "cell_type": "code",
   "execution_count": 5,
   "id": "2650e1f0",
   "metadata": {},
   "outputs": [],
   "source": [
    "dataset = VSDataset(\n",
    "    csv_path= csv_path,\n",
    "    data_dir=data_dir,\n",
    "    transform=slice_transform,  \n",
    "    target_slices=128            \n",
    ")"
   ]
  },
  {
   "cell_type": "code",
   "execution_count": 6,
   "id": "a49c7cd1",
   "metadata": {},
   "outputs": [],
   "source": [
    "train_loader = DataLoader(\n",
    "        dataset,\n",
    "        batch_size=batch_size,\n",
    "        num_workers=num_workers,\n",
    "        pin_memory=pin_memory,\n",
    "        shuffle=True,\n",
    "    )"
   ]
  },
  {
   "cell_type": "code",
   "execution_count": 7,
   "id": "37c8cc7c",
   "metadata": {},
   "outputs": [],
   "source": [
    "model= DynUNet(spatial_dims=3,\n",
    "    in_channels=1,\n",
    "    out_channels=1,\n",
    "    kernel_size=[3, 3, 3, 3, 3, 3],\n",
    "    strides=[1, 2, 2, 2, 2, 2],\n",
    "    upsample_kernel_size=[2, 2, 2, 2, 2],\n",
    "    res_block=True,\n",
    ")"
   ]
  },
  {
   "cell_type": "code",
   "execution_count": 8,
   "id": "34032de7",
   "metadata": {},
   "outputs": [],
   "source": [
    "loss_function = DiceCELoss(to_onehot_y=True, softmax=True)\n",
    "optimizer = Adam(model.parameters(), lr=1e-4)"
   ]
  },
  {
   "cell_type": "code",
   "execution_count": 9,
   "id": "26fd32dc",
   "metadata": {},
   "outputs": [],
   "source": [
    "device= torch.device('cpu')"
   ]
  },
  {
   "cell_type": "code",
   "execution_count": 10,
   "id": "ec8aa226",
   "metadata": {},
   "outputs": [
    {
     "name": "stdout",
     "output_type": "stream",
     "text": [
      "Reading image: D:\\VSdata\\Vestibular-Schwannoma-MC-RC\\VS-MC-RC-030\\05-11-1995-NA-t2of3  MRI IAMS-56472\\7.000000-T2FIESTA-C-74895\n",
      "Reading mask: D:\\VSdata\\VS-MC-RC segmentations-NIfTI-Release 2023/VS-MC-RC-030/1995-05-11/seg_T2.nii.gz\n",
      "[INFO] image_stack shape already matches target shape.\n",
      "[INFO] Final image_stack shape: (64, 512, 512)\n",
      "(64, 512, 512) (64, 512, 512)\n",
      "Reading image: D:\\VSdata\\Vestibular-Schwannoma-MC-RC\\VS-MC-RC-079\\04-05-1990-NA-t1of2  External Images for PACS-91613\\2.000000-T2Ax 3D FIESTA-35837\n",
      "Reading mask: D:\\VSdata\\VS-MC-RC segmentations-NIfTI-Release 2023/VS-MC-RC-079/1990-04-05/seg_T2.nii.gz\n",
      "[INFO] image_stack shape already matches target shape.\n",
      "[INFO] Final image_stack shape: (144, 512, 512)\n",
      "(144, 512, 512) (144, 512, 512)\n",
      "Reading image: D:\\VSdata\\Vestibular-Schwannoma-MC-RC\\VS-SEG-042\\07-16-1994-NA-t1of6 External Images for PACS-75965\\401.000000-T2T23DDRIVE-71044\n",
      "Reading mask: D:\\VSdata\\VS-MC-RC segmentations-NIfTI-Release 2023/VS-SEG-042/1994-07-16/seg_T2.nii.gz\n",
      "[INFO] image_stack shape already matches target shape.\n",
      "[INFO] Final image_stack shape: (40, 336, 336)\n",
      "(40, 336, 336) (40, 336, 336)\n",
      "Reading image: D:\\VSdata\\Vestibular-Schwannoma-MC-RC\\VS-MC-RC-086\\11-15-1992-NA-t1of3  External Images for PACS-81295\\301.000000-T2I.A.C.      T2 TSE-93974\n",
      "Reading mask: D:\\VSdata\\VS-MC-RC segmentations-NIfTI-Release 2023/VS-MC-RC-086/1992-11-15/seg_T2.nii.gz\n",
      "[INFO] image_stack shape already matches target shape.\n",
      "[INFO] Final image_stack shape: (30, 256, 256)\n",
      "(30, 256, 256) (30, 256, 256)\n",
      "Reading image: D:\\VSdata\\Vestibular-Schwannoma-MC-RC\\VS-SEG-154\\10-10-1997-NA-t5of9MRI Stereo Gamma Knife gad-85661\\2.000000-T1t1fl3dtragkv1-81280\n",
      "Reading mask: D:\\VSdata\\VS-MC-RC segmentations-NIfTI-Release 2023/VS-SEG-154/1997-10-10/seg_T1.nii.gz\n",
      "[INFO] image_stack shape already matches target shape.\n",
      "[INFO] Final image_stack shape: (120, 512, 512)\n",
      "(120, 512, 512) (120, 512, 512)\n",
      "Reading image: D:\\VSdata\\Vestibular-Schwannoma-MC-RC\\VS-MC-RC-071\\10-25-1987-NA-t1of3  External Images for PACS-04326\\3.000000-T2T23DDRIVE-32809\n",
      "Reading mask: D:\\VSdata\\VS-MC-RC segmentations-NIfTI-Release 2023/VS-MC-RC-071/1987-10-25/seg_T2.nii.gz\n",
      "[INFO] image_stack shape already matches target shape.\n",
      "[INFO] Final image_stack shape: (40, 336, 336)\n",
      "(40, 336, 336) (40, 336, 336)\n",
      "Reading image: D:\\VSdata\\Vestibular-Schwannoma-MC-RC\\VS-MC-RC-088\\08-01-1992-NA-t9of17  External Images for PACS-40538\\301.000000-T2T2W3DDRIVE-29554\n",
      "Reading mask: D:\\VSdata\\VS-MC-RC segmentations-NIfTI-Release 2023/VS-MC-RC-088/1992-08-01/seg_T2.nii.gz\n",
      "[INFO] image_stack shape already matches target shape.\n",
      "[INFO] Final image_stack shape: (76, 512, 512)\n",
      "(76, 512, 512) (76, 512, 512)\n",
      "Reading image: D:\\VSdata\\Vestibular-Schwannoma-MC-RC\\VS-MC-RC-038\\02-23-1998-NA-t3of3  MRI IAMS-90686\\5.000000-T2FIESTA-C-28118\n",
      "Reading mask: D:\\VSdata\\VS-MC-RC segmentations-NIfTI-Release 2023/VS-MC-RC-038/1998-02-23/seg_T2.nii.gz\n",
      "[INFO] image_stack shape already matches target shape.\n",
      "[INFO] Final image_stack shape: (64, 512, 512)\n",
      "(64, 512, 512) (64, 512, 512)\n",
      "Reading image: D:\\VSdata\\Vestibular-Schwannoma-MC-RC\\VS-MC-RC-052\\03-09-1997-NA-t1of3MR IAMs-92357\\100.000000-T2MPR Range-71919\n",
      "Reading mask: D:\\VSdata\\VS-MC-RC segmentations-NIfTI-Release 2023/VS-MC-RC-052/1997-03-09/seg_T2.nii.gz\n",
      "[INFO] image_stack shape already matches target shape.\n",
      "[INFO] Final image_stack shape: (60, 640, 640)\n",
      "(60, 640, 640) (60, 640, 640)\n",
      "Reading image: D:\\VSdata\\Vestibular-Schwannoma-MC-RC\\VS-MC-RC-074\\01-17-1992-NA-t1of2  MRI Head-01091\\4.000000-T2FIESTA-C-74273\n",
      "Reading mask: D:\\VSdata\\VS-MC-RC segmentations-NIfTI-Release 2023/VS-MC-RC-074/1992-01-17/seg_T2.nii.gz\n",
      "[INFO] image_stack shape already matches target shape.\n",
      "[INFO] Final image_stack shape: (56, 512, 512)\n",
      "(56, 512, 512) (56, 512, 512)\n",
      "Reading image: D:\\VSdata\\Vestibular-Schwannoma-MC-RC\\VS-SEG-135\\02-03-2001-NA-t8of8MRI IAMS-67800\\15.000000-T1t1vibefstrap2post Gad-80109\n",
      "Reading mask: D:\\VSdata\\VS-MC-RC segmentations-NIfTI-Release 2023/VS-SEG-135/2001-02-03/seg_T1.nii.gz\n",
      "[INFO] image_stack shape already matches target shape.\n",
      "[INFO] Final image_stack shape: (44, 288, 288)\n",
      "(44, 288, 288) (44, 288, 288)\n",
      "Reading image: D:\\VSdata\\Vestibular-Schwannoma-MC-RC\\VS-MC-RC-031\\09-23-1987-NA-t1of3  External Images for PACS-04672\\3.000000-T2T23DDRIVE-63668\n",
      "Reading mask: D:\\VSdata\\VS-MC-RC segmentations-NIfTI-Release 2023/VS-MC-RC-031/1987-09-23/seg_T2.nii.gz\n",
      "[INFO] image_stack shape already matches target shape.\n",
      "[INFO] Final image_stack shape: (40, 256, 256)\n",
      "(40, 256, 256) (40, 256, 256)\n",
      "Reading image: D:\\VSdata\\Vestibular-Schwannoma-MC-RC\\VS-MC-RC-084\\08-19-1999-NA-t7of7  MRI IAMS-17009\\8.000000-T2t2spctraiso0.5-81064\n",
      "Reading mask: D:\\VSdata\\VS-MC-RC segmentations-NIfTI-Release 2023/VS-MC-RC-084/1999-08-19/seg_T2.nii.gz\n",
      "[INFO] image_stack shape already matches target shape.\n",
      "[INFO] Final image_stack shape: (60, 384, 384)\n",
      "(60, 384, 384) (60, 384, 384)\n",
      "Reading image: D:\\VSdata\\Vestibular-Schwannoma-MC-RC\\VS-SEG-041\\11-30-1999\\image.nii.gz\n",
      "Reading mask: D:\\VSdata\\VS-MC-RC segmentations-NIfTI-Release 2023/VS-SEG-041/1999-11-30/seg_T2.nii.gz\n"
     ]
    },
    {
     "ename": "FileNotFoundError",
     "evalue": "[WinError 3] The system cannot find the path specified: 'D:\\\\VSdata\\\\Vestibular-Schwannoma-MC-RC\\\\VS-SEG-041\\\\11-30-1999\\\\image.nii.gz'",
     "output_type": "error",
     "traceback": [
      "\u001b[1;31m---------------------------------------------------------------------------\u001b[0m",
      "\u001b[1;31mFileNotFoundError\u001b[0m                         Traceback (most recent call last)",
      "Cell \u001b[1;32mIn[10], line 5\u001b[0m\n\u001b[0;32m      2\u001b[0m model\u001b[38;5;241m.\u001b[39mtrain()\n\u001b[0;32m      3\u001b[0m running_loss \u001b[38;5;241m=\u001b[39m \u001b[38;5;241m0.0\u001b[39m\n\u001b[1;32m----> 5\u001b[0m \u001b[38;5;28;01mfor\u001b[39;00m batch_idx, (inputs, targets) \u001b[38;5;129;01min\u001b[39;00m \u001b[38;5;28menumerate\u001b[39m(train_loader):\n\u001b[0;32m      6\u001b[0m     inputs \u001b[38;5;241m=\u001b[39m inputs\u001b[38;5;241m.\u001b[39mto(device)\n\u001b[0;32m      7\u001b[0m     targets \u001b[38;5;241m=\u001b[39m targets\u001b[38;5;241m.\u001b[39mto(device)\n",
      "File \u001b[1;32mc:\\Users\\Acer\\anaconda3\\envs\\3dVS\\lib\\site-packages\\torch\\utils\\data\\dataloader.py:630\u001b[0m, in \u001b[0;36m_BaseDataLoaderIter.__next__\u001b[1;34m(self)\u001b[0m\n\u001b[0;32m    627\u001b[0m \u001b[38;5;28;01mif\u001b[39;00m \u001b[38;5;28mself\u001b[39m\u001b[38;5;241m.\u001b[39m_sampler_iter \u001b[38;5;129;01mis\u001b[39;00m \u001b[38;5;28;01mNone\u001b[39;00m:\n\u001b[0;32m    628\u001b[0m     \u001b[38;5;66;03m# TODO(https://github.com/pytorch/pytorch/issues/76750)\u001b[39;00m\n\u001b[0;32m    629\u001b[0m     \u001b[38;5;28mself\u001b[39m\u001b[38;5;241m.\u001b[39m_reset()  \u001b[38;5;66;03m# type: ignore[call-arg]\u001b[39;00m\n\u001b[1;32m--> 630\u001b[0m data \u001b[38;5;241m=\u001b[39m \u001b[38;5;28;43mself\u001b[39;49m\u001b[38;5;241;43m.\u001b[39;49m\u001b[43m_next_data\u001b[49m\u001b[43m(\u001b[49m\u001b[43m)\u001b[49m\n\u001b[0;32m    631\u001b[0m \u001b[38;5;28mself\u001b[39m\u001b[38;5;241m.\u001b[39m_num_yielded \u001b[38;5;241m+\u001b[39m\u001b[38;5;241m=\u001b[39m \u001b[38;5;241m1\u001b[39m\n\u001b[0;32m    632\u001b[0m \u001b[38;5;28;01mif\u001b[39;00m \u001b[38;5;28mself\u001b[39m\u001b[38;5;241m.\u001b[39m_dataset_kind \u001b[38;5;241m==\u001b[39m _DatasetKind\u001b[38;5;241m.\u001b[39mIterable \u001b[38;5;129;01mand\u001b[39;00m \\\n\u001b[0;32m    633\u001b[0m         \u001b[38;5;28mself\u001b[39m\u001b[38;5;241m.\u001b[39m_IterableDataset_len_called \u001b[38;5;129;01mis\u001b[39;00m \u001b[38;5;129;01mnot\u001b[39;00m \u001b[38;5;28;01mNone\u001b[39;00m \u001b[38;5;129;01mand\u001b[39;00m \\\n\u001b[0;32m    634\u001b[0m         \u001b[38;5;28mself\u001b[39m\u001b[38;5;241m.\u001b[39m_num_yielded \u001b[38;5;241m>\u001b[39m \u001b[38;5;28mself\u001b[39m\u001b[38;5;241m.\u001b[39m_IterableDataset_len_called:\n",
      "File \u001b[1;32mc:\\Users\\Acer\\anaconda3\\envs\\3dVS\\lib\\site-packages\\torch\\utils\\data\\dataloader.py:674\u001b[0m, in \u001b[0;36m_SingleProcessDataLoaderIter._next_data\u001b[1;34m(self)\u001b[0m\n\u001b[0;32m    672\u001b[0m \u001b[38;5;28;01mdef\u001b[39;00m\u001b[38;5;250m \u001b[39m\u001b[38;5;21m_next_data\u001b[39m(\u001b[38;5;28mself\u001b[39m):\n\u001b[0;32m    673\u001b[0m     index \u001b[38;5;241m=\u001b[39m \u001b[38;5;28mself\u001b[39m\u001b[38;5;241m.\u001b[39m_next_index()  \u001b[38;5;66;03m# may raise StopIteration\u001b[39;00m\n\u001b[1;32m--> 674\u001b[0m     data \u001b[38;5;241m=\u001b[39m \u001b[38;5;28;43mself\u001b[39;49m\u001b[38;5;241;43m.\u001b[39;49m\u001b[43m_dataset_fetcher\u001b[49m\u001b[38;5;241;43m.\u001b[39;49m\u001b[43mfetch\u001b[49m\u001b[43m(\u001b[49m\u001b[43mindex\u001b[49m\u001b[43m)\u001b[49m  \u001b[38;5;66;03m# may raise StopIteration\u001b[39;00m\n\u001b[0;32m    675\u001b[0m     \u001b[38;5;28;01mif\u001b[39;00m \u001b[38;5;28mself\u001b[39m\u001b[38;5;241m.\u001b[39m_pin_memory:\n\u001b[0;32m    676\u001b[0m         data \u001b[38;5;241m=\u001b[39m _utils\u001b[38;5;241m.\u001b[39mpin_memory\u001b[38;5;241m.\u001b[39mpin_memory(data, \u001b[38;5;28mself\u001b[39m\u001b[38;5;241m.\u001b[39m_pin_memory_device)\n",
      "File \u001b[1;32mc:\\Users\\Acer\\anaconda3\\envs\\3dVS\\lib\\site-packages\\torch\\utils\\data\\_utils\\fetch.py:51\u001b[0m, in \u001b[0;36m_MapDatasetFetcher.fetch\u001b[1;34m(self, possibly_batched_index)\u001b[0m\n\u001b[0;32m     49\u001b[0m         data \u001b[38;5;241m=\u001b[39m \u001b[38;5;28mself\u001b[39m\u001b[38;5;241m.\u001b[39mdataset\u001b[38;5;241m.\u001b[39m__getitems__(possibly_batched_index)\n\u001b[0;32m     50\u001b[0m     \u001b[38;5;28;01melse\u001b[39;00m:\n\u001b[1;32m---> 51\u001b[0m         data \u001b[38;5;241m=\u001b[39m [\u001b[38;5;28mself\u001b[39m\u001b[38;5;241m.\u001b[39mdataset[idx] \u001b[38;5;28;01mfor\u001b[39;00m idx \u001b[38;5;129;01min\u001b[39;00m possibly_batched_index]\n\u001b[0;32m     52\u001b[0m \u001b[38;5;28;01melse\u001b[39;00m:\n\u001b[0;32m     53\u001b[0m     data \u001b[38;5;241m=\u001b[39m \u001b[38;5;28mself\u001b[39m\u001b[38;5;241m.\u001b[39mdataset[possibly_batched_index]\n",
      "File \u001b[1;32mc:\\Users\\Acer\\anaconda3\\envs\\3dVS\\lib\\site-packages\\torch\\utils\\data\\_utils\\fetch.py:51\u001b[0m, in \u001b[0;36m<listcomp>\u001b[1;34m(.0)\u001b[0m\n\u001b[0;32m     49\u001b[0m         data \u001b[38;5;241m=\u001b[39m \u001b[38;5;28mself\u001b[39m\u001b[38;5;241m.\u001b[39mdataset\u001b[38;5;241m.\u001b[39m__getitems__(possibly_batched_index)\n\u001b[0;32m     50\u001b[0m     \u001b[38;5;28;01melse\u001b[39;00m:\n\u001b[1;32m---> 51\u001b[0m         data \u001b[38;5;241m=\u001b[39m [\u001b[38;5;28;43mself\u001b[39;49m\u001b[38;5;241;43m.\u001b[39;49m\u001b[43mdataset\u001b[49m\u001b[43m[\u001b[49m\u001b[43midx\u001b[49m\u001b[43m]\u001b[49m \u001b[38;5;28;01mfor\u001b[39;00m idx \u001b[38;5;129;01min\u001b[39;00m possibly_batched_index]\n\u001b[0;32m     52\u001b[0m \u001b[38;5;28;01melse\u001b[39;00m:\n\u001b[0;32m     53\u001b[0m     data \u001b[38;5;241m=\u001b[39m \u001b[38;5;28mself\u001b[39m\u001b[38;5;241m.\u001b[39mdataset[possibly_batched_index]\n",
      "File \u001b[1;32mc:\\Users\\Acer\\Desktop\\3dVS\\DynUnet\\dataset.py:28\u001b[0m, in \u001b[0;36mVSDataset.__getitem__\u001b[1;34m(self, idx)\u001b[0m\n\u001b[0;32m     25\u001b[0m \u001b[38;5;28mprint\u001b[39m(\u001b[38;5;124mf\u001b[39m\u001b[38;5;124m\"\u001b[39m\u001b[38;5;124mReading mask: \u001b[39m\u001b[38;5;132;01m{\u001b[39;00mmask_path\u001b[38;5;132;01m}\u001b[39;00m\u001b[38;5;124m\"\u001b[39m)\n\u001b[0;32m     27\u001b[0m mask \u001b[38;5;241m=\u001b[39m load_nifti_as_dhw(mask_path)\n\u001b[1;32m---> 28\u001b[0m image \u001b[38;5;241m=\u001b[39m \u001b[43mdicom_load\u001b[49m\u001b[43m(\u001b[49m\u001b[43mimage_path\u001b[49m\u001b[43m,\u001b[49m\u001b[43m \u001b[49m\u001b[43mmask\u001b[49m\u001b[38;5;241;43m.\u001b[39;49m\u001b[43mshape\u001b[49m\u001b[43m)\u001b[49m\n\u001b[0;32m     29\u001b[0m \u001b[38;5;28mprint\u001b[39m(image\u001b[38;5;241m.\u001b[39mshape, mask\u001b[38;5;241m.\u001b[39mshape)\n\u001b[0;32m     31\u001b[0m slices, _, _ \u001b[38;5;241m=\u001b[39m image\u001b[38;5;241m.\u001b[39mshape\n",
      "File \u001b[1;32mc:\\Users\\Acer\\Desktop\\3dVS\\DynUnet\\utils\\utils.py:43\u001b[0m, in \u001b[0;36mdicom_load\u001b[1;34m(dicom_folder, target_shape)\u001b[0m\n\u001b[0;32m     41\u001b[0m \u001b[38;5;28;01mdef\u001b[39;00m\u001b[38;5;250m \u001b[39m\u001b[38;5;21mdicom_load\u001b[39m(dicom_folder, target_shape\u001b[38;5;241m=\u001b[39m\u001b[38;5;28;01mNone\u001b[39;00m):\n\u001b[0;32m     42\u001b[0m     dicom_files \u001b[38;5;241m=\u001b[39m \u001b[38;5;28msorted\u001b[39m([\n\u001b[1;32m---> 43\u001b[0m         os\u001b[38;5;241m.\u001b[39mpath\u001b[38;5;241m.\u001b[39mjoin(dicom_folder, f) \u001b[38;5;28;01mfor\u001b[39;00m f \u001b[38;5;129;01min\u001b[39;00m \u001b[43mos\u001b[49m\u001b[38;5;241;43m.\u001b[39;49m\u001b[43mlistdir\u001b[49m\u001b[43m(\u001b[49m\u001b[43mdicom_folder\u001b[49m\u001b[43m)\u001b[49m\n\u001b[0;32m     44\u001b[0m         \u001b[38;5;28;01mif\u001b[39;00m f\u001b[38;5;241m.\u001b[39mendswith(\u001b[38;5;124m'\u001b[39m\u001b[38;5;124m.dcm\u001b[39m\u001b[38;5;124m'\u001b[39m)\n\u001b[0;32m     45\u001b[0m     ])\n\u001b[0;32m     47\u001b[0m     dicom_images \u001b[38;5;241m=\u001b[39m [pydicom\u001b[38;5;241m.\u001b[39mdcmread(f) \u001b[38;5;28;01mfor\u001b[39;00m f \u001b[38;5;129;01min\u001b[39;00m dicom_files]\n\u001b[0;32m     48\u001b[0m     image_stack \u001b[38;5;241m=\u001b[39m np\u001b[38;5;241m.\u001b[39mstack([saveDicomAsJPEG(dcm) \u001b[38;5;28;01mfor\u001b[39;00m dcm \u001b[38;5;129;01min\u001b[39;00m dicom_images], axis\u001b[38;5;241m=\u001b[39m\u001b[38;5;241m-\u001b[39m\u001b[38;5;241m1\u001b[39m)  \u001b[38;5;66;03m# (H, W, D)\u001b[39;00m\n",
      "\u001b[1;31mFileNotFoundError\u001b[0m: [WinError 3] The system cannot find the path specified: 'D:\\\\VSdata\\\\Vestibular-Schwannoma-MC-RC\\\\VS-SEG-041\\\\11-30-1999\\\\image.nii.gz'"
     ]
    }
   ],
   "source": [
    "for epoch in range(num_epochs):\n",
    "    model.train()\n",
    "    running_loss = 0.0\n",
    "    \n",
    "    for batch_idx, (inputs, targets) in enumerate(train_loader):\n",
    "        inputs = inputs.to(device)\n",
    "        targets = targets.to(device)\n",
    "        \n",
    "        # optimizer.zero_grad()\n",
    "\n",
    "        # outputs = model(inputs)\n",
    "        # outputs = torch.sigmoid(outputs)\n",
    "        # loss = loss_function(outputs, targets)\n",
    "        # loss.backward()\n",
    "        # optimizer.step()\n",
    "\n",
    "        # running_loss += loss.item()\n",
    "        \n",
    "        # if batch_idx % 10 == 0:\n",
    "        #     print(f\"Epoch [{epoch+1}/{num_epochs}], Step [{batch_idx+1}/{len(train_loader)}], Loss: {loss.item()}\")\n",
    "\n",
    "    # avg_loss = running_loss / len(train_loader)\n",
    "    # print(f\"Epoch [{epoch+1}/{num_epochs}], Average Loss: {avg_loss}\")\n",
    "\n",
    "print(\"Training complete!\")"
   ]
  },
  {
   "cell_type": "code",
   "execution_count": null,
   "id": "f9d545d9",
   "metadata": {},
   "outputs": [
    {
     "data": {
      "text/html": [
       "<div>\n",
       "<style scoped>\n",
       "    .dataframe tbody tr th:only-of-type {\n",
       "        vertical-align: middle;\n",
       "    }\n",
       "\n",
       "    .dataframe tbody tr th {\n",
       "        vertical-align: top;\n",
       "    }\n",
       "\n",
       "    .dataframe thead th {\n",
       "        text-align: right;\n",
       "    }\n",
       "</style>\n",
       "<table border=\"1\" class=\"dataframe\">\n",
       "  <thead>\n",
       "    <tr style=\"text-align: right;\">\n",
       "      <th></th>\n",
       "      <th>patient_id</th>\n",
       "      <th>series_instance_uid</th>\n",
       "      <th>study_date</th>\n",
       "      <th>SegmentationPath</th>\n",
       "      <th>image_path</th>\n",
       "      <th>imagenifti_path</th>\n",
       "    </tr>\n",
       "  </thead>\n",
       "  <tbody>\n",
       "    <tr>\n",
       "      <th>182</th>\n",
       "      <td>VS-MC-RC-036</td>\n",
       "      <td>1.3.6.1.4.1.14519.5.2.1.2356822478735907152433...</td>\n",
       "      <td>07-21-1995</td>\n",
       "      <td>VS-MC-RC segmentations-NIfTI-Release 2023/VS-M...</td>\n",
       "      <td>manifest-1742405880893\\Vestibular-Schwannoma-M...</td>\n",
       "      <td>image-nifti\\VS-MC-RC-036\\07-21-1995\\image.nii.gz</td>\n",
       "    </tr>\n",
       "    <tr>\n",
       "      <th>183</th>\n",
       "      <td>VS-MC-RC-036</td>\n",
       "      <td>1.3.6.1.4.1.14519.5.2.1.1160169313945234564236...</td>\n",
       "      <td>07-09-1999</td>\n",
       "      <td>VS-MC-RC segmentations-NIfTI-Release 2023/VS-M...</td>\n",
       "      <td>manifest-1742405880893\\Vestibular-Schwannoma-M...</td>\n",
       "      <td>image-nifti\\VS-MC-RC-036\\07-09-1999\\image.nii.gz</td>\n",
       "    </tr>\n",
       "  </tbody>\n",
       "</table>\n",
       "</div>"
      ],
      "text/plain": [
       "       patient_id                                series_instance_uid  \\\n",
       "182  VS-MC-RC-036  1.3.6.1.4.1.14519.5.2.1.2356822478735907152433...   \n",
       "183  VS-MC-RC-036  1.3.6.1.4.1.14519.5.2.1.1160169313945234564236...   \n",
       "\n",
       "     study_date                                   SegmentationPath  \\\n",
       "182  07-21-1995  VS-MC-RC segmentations-NIfTI-Release 2023/VS-M...   \n",
       "183  07-09-1999  VS-MC-RC segmentations-NIfTI-Release 2023/VS-M...   \n",
       "\n",
       "                                            image_path  \\\n",
       "182  manifest-1742405880893\\Vestibular-Schwannoma-M...   \n",
       "183  manifest-1742405880893\\Vestibular-Schwannoma-M...   \n",
       "\n",
       "                                      imagenifti_path  \n",
       "182  image-nifti\\VS-MC-RC-036\\07-21-1995\\image.nii.gz  \n",
       "183  image-nifti\\VS-MC-RC-036\\07-09-1999\\image.nii.gz  "
      ]
     },
     "execution_count": 11,
     "metadata": {},
     "output_type": "execute_result"
    }
   ],
   "source": [
    "csv_path = r'D:\\VSdata\\vs_paths.csv' \n",
    "import pandas as pd\n",
    "df= pd.read_csv(csv_path)\n",
    "df[df['patient_id']=='VS-MC-RC-036']"
   ]
  },
  {
   "cell_type": "code",
   "execution_count": null,
   "id": "3044cfb2",
   "metadata": {},
   "outputs": [
    {
     "name": "stdout",
     "output_type": "stream",
     "text": [
      "[INFO] Transposing image_stack from (40, 512, 384) to (40, 384, 512) using order (0, 2, 1)\n",
      "[INFO] Final image_stack shape: (40, 384, 512)\n",
      "(40, 384, 512)\n",
      "(40, 384, 512)\n"
     ]
    }
   ],
   "source": [
    "from utils.utils import load_nifti_as_dhw\n",
    "from utils.utils import dicom_load\n",
    "\n",
    "image= r'D:\\VSdata\\image-nifti\\VS-MC-RC-028\\10-12-1992\\image.nii.gz'\n",
    "mask = r'D:\\VSdata\\VS-MC-RC segmentations-NIfTI-Release 2023/VS-MC-RC-028/1992-10-12/seg_T2.nii.gz'\n",
    "path= r'D:\\VSdata\\Vestibular-Schwannoma-MC-RC\\VS-MC-RC-028\\10-12-1992-NA-t1of7  External Images for PACS-81342\\3.000000-T2t2 tra 3d-ciss-71390'\n",
    "\n",
    "mask= load_nifti_as_dhw(mask)\n",
    "image= dicom_load(path, mask.shape)\n",
    "\n",
    "print(image.shape)\n",
    "print(mask.shape)"
   ]
  },
  {
   "cell_type": "code",
   "execution_count": null,
   "id": "a9b6ab9d",
   "metadata": {},
   "outputs": [
    {
     "name": "stdout",
     "output_type": "stream",
     "text": [
      "(40, 384, 512)\n",
      "<class 'numpy.ndarray'>\n"
     ]
    }
   ],
   "source": [
    "image= r'D:\\VSdata\\image-nifti\\VS-MC-RC-028\\10-12-1992\\image.nii.gz'\n",
    "image= load_nifti_as_dhw(image)\n",
    "print(image.shape)\n",
    "print(type(image))"
   ]
  },
  {
   "cell_type": "code",
   "execution_count": null,
   "id": "d5a4d6ec",
   "metadata": {},
   "outputs": [],
   "source": [
    "import pandas as pd\n",
    "\n",
    "csv_path = r'D:\\VSdata\\vs_paths.csv'\n",
    "df = pd.read_csv(csv_path)\n",
    "\n",
    "# Remove 'manifest-<digits>\\\\' from the beginning of the image_path\n",
    "df['image_path'] = df['image_path'].str.replace(r'^manifest-\\d+\\\\', '', regex=True)\n",
    "\n",
    "# Save the cleaned dataframe back to CSV (overwrite original)\n",
    "df.to_csv(r'D:\\VSdata\\vs_paths_cleaned.csv', index=False)\n"
   ]
  }
 ],
 "metadata": {
  "kernelspec": {
   "display_name": "3dVS",
   "language": "python",
   "name": "python3"
  },
  "language_info": {
   "codemirror_mode": {
    "name": "ipython",
    "version": 3
   },
   "file_extension": ".py",
   "mimetype": "text/x-python",
   "name": "python",
   "nbconvert_exporter": "python",
   "pygments_lexer": "ipython3",
   "version": "3.10.16"
  }
 },
 "nbformat": 4,
 "nbformat_minor": 5
}
